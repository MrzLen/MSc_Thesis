{
 "cells": [
  {
   "cell_type": "code",
   "execution_count": 5,
   "metadata": {},
   "outputs": [],
   "source": [
    "import numpy as np \n",
    "import matplotlib.pyplot as plt\n"
   ]
  },
  {
   "cell_type": "code",
   "execution_count": 47,
   "metadata": {},
   "outputs": [],
   "source": [
    "def Wendland_kern(x1, x2, epsilon = 0.001): #kernel, use Wendland covariance as an example \n",
    "        return np.max(1 - np.abs(x1 - x2)/epsilon, 0)**4 * (4*np.abs(x1 - x2)/epsilon + 1)\n",
    "\n",
    "def gauss_kernel(x1, x2, L= 0.5):\n",
    "    return np.exp(-(x1-x2)**2 / (2* L**2))\n",
    "\n",
    "def gauss_kernel_derix(x1, x2, L = 0.5):\n",
    "    return np.exp(-(x1-x2)**2 / (2* L**2)) * (- (x1 - x2) / L**2)\n",
    "\n",
    "def gauss_kernel_derixy(x1, x2, L = 0.5):\n",
    "    return np.exp(-(x1-x2)**2 / (2* L**2)) * (1/ L**4) * ((x1-x2)**2  + L**2)\n",
    "\n",
    "def gauss_kernel_derixx(x1, x2, L = 0.5):\n",
    "    return np.exp(-(x1-x2)**2 / (2* L**2)) * (1/ L**4) * ((x1-x2)**2  - L**2)\n",
    "\n",
    "def gauss_kernel_deri2yy(x1, x2, L = 0.5):\n",
    "    return gauss_kernel_derixx(x1, x2, L) \n",
    "\n",
    "def K(X, Y, kern):  #X, T are both list \n",
    "        output = np.zeros((len(X), len(Y)))\n",
    "        for i in range(len(X)):\n",
    "            for j in range(len(Y)):\n",
    "                output[i-1][j-1] = kern(X[i], Y[j]) \n",
    "\n",
    "        return output \n",
    "\n",
    "g1 =  lambda x: np.cos(2*np.pi*x)\n",
    "b1 = lambda x: x \n",
    "\n",
    "B1 = lambda x: x\n",
    "\n",
    "d1, d2 = 0, 1\n",
    "D1, D2 = 0, 1"
   ]
  },
  {
   "cell_type": "code",
   "execution_count": 37,
   "metadata": {},
   "outputs": [],
   "source": [
    "X_A, X_B = [0.1*i for i in range(1, 10)], [0.1*i for i in range(1, 10)]\n",
    "X = [0.2*i for i in range(1, 10)]"
   ]
  },
  {
   "cell_type": "code",
   "execution_count": 44,
   "metadata": {},
   "outputs": [],
   "source": [
    "B = B1\n",
    "AA_hat = gauss_kernel_derixy\n",
    "AB_hat_K = gauss_kernel_derix\n",
    "BA_hat_K = gauss_kernel_derix"
   ]
  },
  {
   "cell_type": "code",
   "execution_count": 68,
   "metadata": {},
   "outputs": [],
   "source": [
    "LK = np.vstack((K(X_A, X, gauss_kernel_derix), K(X_B,X,gauss_kernel))) #LK "
   ]
  },
  {
   "cell_type": "code",
   "execution_count": 70,
   "metadata": {},
   "outputs": [],
   "source": [
    "L_hat_K = np.hstack((K(X, X_A, gauss_kernel_derix), K(X, X_B, gauss_kernel)))"
   ]
  },
  {
   "cell_type": "code",
   "execution_count": 76,
   "metadata": {},
   "outputs": [],
   "source": [
    "LL_hat_K = np.vstack((np.hstack((K(X_A, X_A, gauss_kernel_derixy), K(X_A, X_B, gauss_kernel_derix))), np.hstack((K(X_B, X_A,gauss_kernel_derix), K(X_B, X_B, gauss_kernel)))))"
   ]
  },
  {
   "cell_type": "code",
   "execution_count": 79,
   "metadata": {},
   "outputs": [],
   "source": [
    "def g_matrix(g, X):\n",
    "        return np.array([np.vectorize(g)(X)]).T\n",
    "\n",
    "def b_matrix(b, X):\n",
    "        return np.array([np.vectorize(b)(X)]).T"
   ]
  },
  {
   "cell_type": "code",
   "execution_count": 81,
   "metadata": {},
   "outputs": [
    {
     "data": {
      "text/plain": [
       "(array([[ 0.80901699],\n",
       "        [ 0.30901699],\n",
       "        [-0.30901699],\n",
       "        [-0.80901699],\n",
       "        [-1.        ],\n",
       "        [-0.80901699],\n",
       "        [-0.30901699],\n",
       "        [ 0.30901699],\n",
       "        [ 0.80901699]]),\n",
       " array([[0.1],\n",
       "        [0.2],\n",
       "        [0.3],\n",
       "        [0.4],\n",
       "        [0.5],\n",
       "        [0.6],\n",
       "        [0.7],\n",
       "        [0.8],\n",
       "        [0.9]]))"
      ]
     },
     "execution_count": 81,
     "metadata": {},
     "output_type": "execute_result"
    }
   ],
   "source": [
    "g_matrix(g1, X_A), b_matrix(b1, X_B)"
   ]
  },
  {
   "cell_type": "code",
   "execution_count": 91,
   "metadata": {},
   "outputs": [
    {
     "data": {
      "text/plain": [
       "(18, 1)"
      ]
     },
     "execution_count": 91,
     "metadata": {},
     "output_type": "execute_result"
    }
   ],
   "source": [
    "latter = np.hstack((g_matrix(g1, X_A).T, b_matrix(b1, X_B).T)).T\n",
    "latter.shape"
   ]
  },
  {
   "cell_type": "code",
   "execution_count": 93,
   "metadata": {},
   "outputs": [
    {
     "data": {
      "text/plain": [
       "array([[2.99997779e-01],\n",
       "       [4.99997526e-01],\n",
       "       [6.99999467e-01],\n",
       "       [1.49774915e+00],\n",
       "       [1.71969618e+01],\n",
       "       [9.22506718e+01],\n",
       "       [2.44865173e+02],\n",
       "       [3.96852178e+02],\n",
       "       [9.99965745e-02]])"
      ]
     },
     "execution_count": 93,
     "metadata": {},
     "output_type": "execute_result"
    }
   ],
   "source": [
    "middle = np.linalg.inv(LL_hat_K)\n",
    "mean = np.matmul(np.matmul(L_hat_K, middle), latter)\n",
    "mean"
   ]
  },
  {
   "cell_type": "code",
   "execution_count": 95,
   "metadata": {},
   "outputs": [],
   "source": [
    "var = K(X, X, gauss_kernel)  - np.matmul(np.matmul(L_hat_K, middle), LK)"
   ]
  },
  {
   "cell_type": "code",
   "execution_count": 97,
   "metadata": {},
   "outputs": [
    {
     "data": {
      "text/plain": [
       "array([[ 7.38246933e-06,  7.48079668e-06,  6.54663495e-06,\n",
       "         4.94109686e-06,  3.21173097e-06,  1.79532304e-06,\n",
       "         8.61874313e-07,  3.54906144e-07,  6.29930854e-06],\n",
       "       [ 7.32687794e-06,  7.23987457e-06,  6.10987155e-06,\n",
       "         4.38953991e-06,  2.67414679e-06,  1.37453907e-06,\n",
       "         5.92069648e-07,  2.11556744e-07,  6.35003321e-06],\n",
       "       [ 8.55865716e-07,  1.01741787e-06,  9.65438092e-07,\n",
       "         7.43669923e-07,  4.66836454e-07,  2.37439197e-07,\n",
       "         9.60206699e-08,  2.94392256e-08,  5.49424839e-07],\n",
       "       [-2.53210119e-06, -2.39780565e-06, -2.01966121e-06,\n",
       "        -1.52146950e-06, -1.17259754e-06, -1.30985900e-06,\n",
       "        -1.16491617e-06,  1.13711017e-06, -2.36467913e-06],\n",
       "       [-4.33411752e-06, -4.37958676e-06, -3.80707196e-06,\n",
       "        -2.99960106e-06, -4.34487501e-06,  5.23321414e-06,\n",
       "         1.04455949e-04,  3.79527182e-04, -3.70221739e-06],\n",
       "       [-6.73174743e-06, -6.92979523e-06, -6.13367483e-06,\n",
       "        -5.37411489e-06,  3.18238942e-06,  2.89766652e-04,\n",
       "         1.85755567e-03,  5.59231750e-03, -5.63655190e-06],\n",
       "       [-7.46200708e-06, -7.67538360e-06, -6.78385005e-06,\n",
       "        -6.00256268e-06,  1.01566120e-04,  1.85650138e-03,\n",
       "         1.03649451e-02,  3.00732229e-02, -6.24806896e-06],\n",
       "       [-3.71936252e-06, -3.77840962e-06, -3.30307184e-06,\n",
       "        -1.20756672e-06,  3.78103127e-04,  5.59176195e-03,\n",
       "         3.00731685e-02,  8.74606254e-02, -3.15875357e-06],\n",
       "       [ 4.47011827e-06,  5.75629263e-06,  6.13872190e-06,\n",
       "         5.46221591e-06,  4.07685506e-06,  2.56240889e-06,\n",
       "         1.36027631e-06,  6.11307823e-07,  2.84352527e-06]])"
      ]
     },
     "execution_count": 97,
     "metadata": {},
     "output_type": "execute_result"
    }
   ],
   "source": [
    "var"
   ]
  },
  {
   "cell_type": "code",
   "execution_count": 103,
   "metadata": {},
   "outputs": [
    {
     "data": {
      "text/plain": [
       "[<matplotlib.lines.Line2D at 0x7f9326b87ee0>]"
      ]
     },
     "execution_count": 103,
     "metadata": {},
     "output_type": "execute_result"
    },
    {
     "data": {
      "image/png": "[encoded data removed]",
      "text/plain": [
       "<Figure size 432x288 with 1 Axes>"
      ]
     },
     "metadata": {
      "needs_background": "light"
     },
     "output_type": "display_data"
    }
   ],
   "source": [
    "plt.plot(X_A, mean)"
   ]
  },
  {
   "cell_type": "code",
   "execution_count": null,
   "metadata": {},
   "outputs": [],
   "source": [
    "np.random.multivariate_normal(mean, var, (3, 3))"
   ]
  },
  {
   "cell_type": "code",
   "execution_count": 104,
   "metadata": {},
   "outputs": [
    {
     "data": {
      "image/png": "[encoded data removed]",
      "text/plain": [
       "<Figure size 432x288 with 1 Axes>"
      ]
     },
     "metadata": {
      "needs_background": "light"
     },
     "output_type": "display_data"
    }
   ],
   "source": [
    "mean1 = [0, 0]\n",
    "cov1 = [[1, 0], [0, 100]] \n",
    "\n",
    "x, y = np.random.multivariate_normal(mean1, cov1, 5000).T\n",
    "plt.plot(x, y, 'x')\n",
    "plt.axis('equal')\n",
    "plt.show()"
   ]
  }
 ],
 "metadata": {
  "kernelspec": {
   "display_name": "Python 3.9.7 64-bit",
   "language": "python",
   "name": "python3"
  },
  "language_info": {
   "codemirror_mode": {
    "name": "ipython",
    "version": 3
   },
   "file_extension": ".py",
   "mimetype": "text/x-python",
   "name": "python",
   "nbconvert_exporter": "python",
   "pygments_lexer": "ipython3",
   "version": "3.9.7"
  },
  "orig_nbformat": 4,
  "vscode": {
   "interpreter": {
    "hash": "aee8b7b246df8f9039afb4144a1f6fd8d2ca17a180786b69acc140d282b71a49"
   }
  }
 },
 "nbformat": 4,
 "nbformat_minor": 2
}
