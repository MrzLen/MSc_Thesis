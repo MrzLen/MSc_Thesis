{
 "cells": [
  {
   "cell_type": "code",
   "execution_count": 1,
   "metadata": {},
   "outputs": [],
   "source": [
    "import numpy as np \n",
    "import matplotlib.pyplot as plt\n"
   ]
  },
  {
   "cell_type": "code",
   "execution_count": 20,
   "metadata": {},
   "outputs": [],
   "source": [
    "class PMM:\n",
    "    \n",
    "    def __init__(self, g, b, A, B, A_hat, B_hat, d1, d2, D1, D2, kern): #g, b are functions \n",
    "        self.g = g\n",
    "        self.b = b\n",
    "        self.A = A\n",
    "        self.B = B\n",
    "        self.A_hat = A_hat\n",
    "        self.B_hat = B_hat\n",
    "        self.d1 = d1  #domain for pde\n",
    "        self.d2 = d2\n",
    "        self.D1 = D1  #domain for boundary \n",
    "        self.D2 = D2\n",
    "        self.kern = kern \n",
    "\n",
    "    def X_0A(self, mA):\n",
    "        return [self.d1 + i*(self.d2 - self.d1)/mA for i in range(1, mA)]\n",
    "    \n",
    "    def X_0B(self, mB):\n",
    "        return [self.D1 + i*(self.D2 - self.D1)/mB for i in range(1, mB)]\n",
    "\n",
    "    def g_matrix(self):\n",
    "        return np.array([self.X_0A]).T\n",
    "\n",
    "    def b_matrix(self):\n",
    "        return np.array([self.X_0B]).T \n",
    "\n",
    "\n",
    "    def K(self, X, Y):  #X, T are both list \n",
    "        output = np.zeros((len(X), len(Y)))\n",
    "        for i in range(len(X)):\n",
    "            for j in range(len(Y)):\n",
    "                output[i-1][j-1] = self.kern(X[i], Y[j]) \n",
    "\n",
    "        return output \n",
    "\n",
    "    def posterior(self, X):\n",
    "        L_hat_K = np.concatenate(self.A(self.K(X, self.X_0A)), self.B(self.K(X, self.X_0B)))\n",
    "        L_K = np.concatenate((self.A(self.K(self.X_0A, X)), self.B(self.K(self.X_0B, X))), axis = 1)\n",
    "\n",
    "        L_L_hat_K = np.bmat([[self.A(self.A_hat(self.K(self.X_0A, self.X_0A))), \n",
    "                            self.A(self.B_hat(self.K(self.X_0A, self.X_0B)))], \n",
    "                            [self.B(self.A_hat(self.K(self.X_0B, self.X_0A))),\n",
    "                            self.B(self.B_hat(self.K(self.X_0B, self.X_0A)))]])\n",
    "\n",
    "        latter = np.concatenate((self.g_matrix, self.b_matrix), axis=1).T\n",
    "\n",
    "        middle = np.linalg.inv(L_L_hat_K)\n",
    "\n",
    "        mean = np.matmul(np.matmul(L_hat_K, middle), latter)\n",
    "        var = self.K(X, X)  - np.matmul(np.matmul(L_hat_K, middle), L_K)\n",
    "\n",
    "        return mean, var "
   ]
  },
  {
   "cell_type": "code",
   "execution_count": 21,
   "metadata": {},
   "outputs": [],
   "source": [
    "def Wendland_kern(x1, x2, epsilon = 0.001): #kernel, use Wendland covariance as an example \n",
    "        return np.max(1 - np.abs(x1 - x2)/epsilon, 0)**4 * (4*np.abs(x1 - x2)/epsilon + 1)\n",
    "\n",
    "def gauss_kernel(x1, x2, L= 0.5):\n",
    "    return np.exp(-(x1-x2)**2 / (2* L**2))\n",
    "\n",
    "def gauss_kernel_deri1(x1, x2, L = 0.5):\n",
    "    return np.exp(-(x1-x2)**2 / (2* L**2)) * (- (x1 - x2) / L**2)\n",
    "\n",
    "def gauss_kernel_deri2(x1, x2, L = 0.5):\n",
    "    return np.exp(-(x1-x2)**2 / (2* L**2)) * (1/ L**4) * ((x1-x2)**2  - L**2)\n",
    "\n",
    "def gauss_kernel_deri2_hat(x1, x2, L = 0.5):\n",
    "    return gauss_kernel_deri2(x1, x2, L) \n",
    "\n",
    "g1 =  lambda x: np.cos(2*np.pi*x)\n",
    "b1 = lambda x: x \n",
    "\n",
    "B1 = lambda x: x\n",
    "\n",
    "d1, d2 = 0, 1\n",
    "D1, D2 = 0, 1"
   ]
  },
  {
   "cell_type": "code",
   "execution_count": 22,
   "metadata": {},
   "outputs": [],
   "source": [
    "poisson = PMM(g1, b1, gauss_kernel_deri2, B1, gauss_kernel_deri2_hat, B1, 0, 1, 0, 1, gauss_kernel)"
   ]
  },
  {
   "cell_type": "code",
   "execution_count": 23,
   "metadata": {},
   "outputs": [
    {
     "data": {
      "text/plain": [
       "([0.1, 0.2, 0.3, 0.4, 0.5, 0.6, 0.7, 0.8, 0.9],\n",
       " [0.1, 0.2, 0.3, 0.4, 0.5, 0.6, 0.7, 0.8, 0.9])"
      ]
     },
     "execution_count": 23,
     "metadata": {},
     "output_type": "execute_result"
    }
   ],
   "source": [
    "poisson.X_0A(10), poisson.X_0B(10)"
   ]
  },
  {
   "cell_type": "code",
   "execution_count": 24,
   "metadata": {},
   "outputs": [
    {
     "data": {
      "text/plain": [
       "array([<bound method PMM.X_0A of <__main__.PMM object at 0x7fea425190d0>>],\n",
       "      dtype=object)"
      ]
     },
     "execution_count": 24,
     "metadata": {},
     "output_type": "execute_result"
    }
   ],
   "source": [
    "poisson.g_matrix()"
   ]
  },
  {
   "cell_type": "code",
   "execution_count": null,
   "metadata": {},
   "outputs": [],
   "source": []
  }
 ],
 "metadata": {
  "kernelspec": {
   "display_name": "Python 3.9.7 64-bit",
   "language": "python",
   "name": "python3"
  },
  "language_info": {
   "codemirror_mode": {
    "name": "ipython",
    "version": 3
   },
   "file_extension": ".py",
   "mimetype": "text/x-python",
   "name": "python",
   "nbconvert_exporter": "python",
   "pygments_lexer": "ipython3",
   "version": "3.9.7"
  },
  "orig_nbformat": 4,
  "vscode": {
   "interpreter": {
    "hash": "aee8b7b246df8f9039afb4144a1f6fd8d2ca17a180786b69acc140d282b71a49"
   }
  }
 },
 "nbformat": 4,
 "nbformat_minor": 2
}
