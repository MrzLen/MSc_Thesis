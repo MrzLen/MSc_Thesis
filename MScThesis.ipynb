{
 "cells": [
  {
   "cell_type": "markdown",
   "metadata": {},
   "source": [
    "# linear PDEs and the example of the Poisson equation"
   ]
  },
  {
   "cell_type": "markdown",
   "metadata": {},
   "source": [
    "### Start with a 1d poisson equation:\n",
    "\n",
    "$\\nabla ^ 2 u(x) = g(x)$, for $x \\in (0,3)$  \n",
    "$g(x) = \\lambda x^3$, with true $\\lambda = 1$\n",
    "\n",
    "This Poisson's equaiton has a closed solution $u_1(x) = \\frac{1}{20}x^5 + 5x$"
   ]
  },
  {
   "cell_type": "code",
   "execution_count": 1,
   "metadata": {},
   "outputs": [],
   "source": [
    "import numpy as np\n",
    "import matplotlib.pyplot as plt\n",
    "import pandas as pd\n",
    "from scipy import integrate"
   ]
  },
  {
   "cell_type": "code",
   "execution_count": 12,
   "metadata": {},
   "outputs": [],
   "source": [
    "u1 = lambda x : 1/20 * (x**5) + 5*x     #closed solution \n",
    "Green = lambda a, b : a*(b-1) if a > b else b*(a-1)   #Green's function\n",
    "\n",
    "def compact_support_kernel(x1, x2, epsilon):\n",
    "    return np.max(1- np.abs(x1-x2)/epsilon, 0)**1 \n",
    "\n",
    "def natural_kernel(x1, x2):\n",
    "    f = lambda z1, z2: Green(x1, z1)*Green(x2, z2)*compact_support_kernel(z1,z2)\n",
    "    return integrate.dblquad(f, 0,1, lambda z2: 0, lambda z2: 1)\n",
    "    \n",
    "def wendland_covariance(x1, x2, epsilon):\n",
    "    return np.max(1 - np.abs(x1, x2)/epsilon, 0)**4 * (4*np.abs(x1 - x2)/epsilon + 1)\n"
   ]
  },
  {
   "cell_type": "code",
   "execution_count": 23,
   "metadata": {},
   "outputs": [
    {
     "data": {
      "text/plain": [
       "[<matplotlib.lines.Line2D at 0x7f8f79e04d00>]"
      ]
     },
     "execution_count": 23,
     "metadata": {},
     "output_type": "execute_result"
    },
    {
     "data": {
      "image/png": "[encoded data removed]",
      "text/plain": [
       "<Figure size 720x576 with 1 Axes>"
      ]
     },
     "metadata": {
      "needs_background": "light"
     },
     "output_type": "display_data"
    }
   ],
   "source": [
    "# Forward Problem \n",
    "\n",
    "x = np.linspace(0, 3, 30)\n",
    "\n",
    "plt.figure(figsize=(10,8))\n",
    "plt.plot(x, u1(x))"
   ]
  },
  {
   "cell_type": "code",
   "execution_count": 15,
   "metadata": {},
   "outputs": [],
   "source": [
    "collocate_points = np.linspace(0,1,21)[1:-1, None]\n",
    "bdy_points = np.array([[0.], [1.]])\n",
    "bdy_vals = np.array([[0.], [0.]])\n",
    "data_points = np.linspace(0,1,11)[1:-1, None]\n",
    "#data_vals = -np.sin(2*np.pi*data_points) / (4*np.pi**2)\n",
    "data_vals = 0.5*(data_points**2 - data_points)"
   ]
  },
  {
   "cell_type": "code",
   "execution_count": null,
   "metadata": {},
   "outputs": [],
   "source": [
    "def get_posterior(theta):\n",
    "    rhs = theta * np.ones_like(collocate_points)\n",
    "    obs = [(collocate_points, rhs), (bdy_points, bdy_vals)]\n",
    "    \n",
    "    posterior = bpdes.collocate(ops, ops_bar, None, None, obs, op_cache)\n",
    "    return posterior\n",
    "\n",
    "def log_likelihood(theta):\n",
    "    posterior = get_posterior(theta)\n",
    "    mu, cov = posterior(data_points)\n",
    "    log_lik = stats.multivariate_normal.logpdf(mu.ravel(), data_vals.ravel(), cov + likelihood_sigma**2*np.eye(cov.shape[0]))\n",
    "    return log_lik"
   ]
  },
  {
   "cell_type": "code",
   "execution_count": 29,
   "metadata": {},
   "outputs": [],
   "source": [
    "nums = [0, 10]\n",
    "k = 2"
   ]
  },
  {
   "cell_type": "code",
   "execution_count": 32,
   "metadata": {},
   "outputs": [
    {
     "data": {
      "text/plain": [
       "(10, 0)"
      ]
     },
     "execution_count": 32,
     "metadata": {},
     "output_type": "execute_result"
    }
   ],
   "source": [
    "m = max(nums)\n",
    "n = min(nums)\n",
    "        \n",
    "m , n"
   ]
  },
  {
   "cell_type": "code",
   "execution_count": null,
   "metadata": {},
   "outputs": [],
   "source": [
    "if m - n <= k:\n",
    "    print(m-n)\n",
    "        \n",
    "else:\n",
    "    for x in nums:\n",
    "        if x < m:\n",
    "            x += k\n",
    "        else:\n",
    "            x -= k"
   ]
  },
  {
   "cell_type": "code",
   "execution_count": 35,
   "metadata": {},
   "outputs": [],
   "source": [
    "for x in nums:\n",
    "    if x < m:\n",
    "        x += 2\n",
    "    else:\n",
    "        x -= 2\n",
    "    "
   ]
  },
  {
   "cell_type": "code",
   "execution_count": 45,
   "metadata": {},
   "outputs": [],
   "source": [
    "x = 3\n",
    "\n",
    "if not x:\n",
    "    print(0)"
   ]
  },
  {
   "cell_type": "code",
   "execution_count": 44,
   "metadata": {},
   "outputs": [
    {
     "name": "stdout",
     "output_type": "stream",
     "text": [
      "0\n"
     ]
    }
   ],
   "source": [
    "if x != 0:\n",
    "    print(0)"
   ]
  },
  {
   "cell_type": "code",
   "execution_count": 46,
   "metadata": {},
   "outputs": [],
   "source": [
    "word = \"ABCCED\""
   ]
  },
  {
   "cell_type": "code",
   "execution_count": 47,
   "metadata": {},
   "outputs": [
    {
     "data": {
      "text/plain": [
       "['A', 'B', 'C', 'C', 'E', 'D']"
      ]
     },
     "execution_count": 47,
     "metadata": {},
     "output_type": "execute_result"
    }
   ],
   "source": [
    "list(word)"
   ]
  },
  {
   "cell_type": "code",
   "execution_count": 50,
   "metadata": {},
   "outputs": [
    {
     "name": "stdout",
     "output_type": "stream",
     "text": [
      "3\n"
     ]
    }
   ],
   "source": [
    "x = 0\n",
    "\n",
    "if x :\n",
    "    print(1)\n",
    "else:\n",
    "    print(3)"
   ]
  },
  {
   "cell_type": "code",
   "execution_count": null,
   "metadata": {},
   "outputs": [],
   "source": [
    "def find(i, j, pos = 0):\n",
    "    if pos == len(word):\n",
    "        return True\n",
    "    if not(0 <= i < m) or not(0 <= j < n) or board[i][j] == \"#\":\n",
    "        return False\n",
    "    if board[i][j] == word[pos]:\n",
    "        temp = board[i][j]\n",
    "        board[i][j] = \"#\"\n",
    "        if find(i, j-1, pos+1) or find(i, j+1, pos+1) or find(i-1, j, pos+1) or find(i+1, j, pos+1):\n",
    "            return True\n",
    "            board[i][j] = temp\n",
    "    return False"
   ]
  },
  {
   "cell_type": "code",
   "execution_count": 54,
   "metadata": {},
   "outputs": [],
   "source": [
    "s = \"A man, a plan, a canal: Panama\""
   ]
  },
  {
   "cell_type": "code",
   "execution_count": 55,
   "metadata": {},
   "outputs": [],
   "source": [
    "s = ''.join(ch for ch in s if ch.isalnum())"
   ]
  },
  {
   "cell_type": "code",
   "execution_count": 56,
   "metadata": {},
   "outputs": [
    {
     "data": {
      "text/plain": [
       "'AmanaplanacanalPanama'"
      ]
     },
     "execution_count": 56,
     "metadata": {},
     "output_type": "execute_result"
    }
   ],
   "source": [
    "s"
   ]
  },
  {
   "cell_type": "code",
   "execution_count": null,
   "metadata": {},
   "outputs": [],
   "source": []
  }
 ],
 "metadata": {
  "kernelspec": {
   "display_name": "Python 3.9.7 64-bit",
   "language": "python",
   "name": "python3"
  },
  "language_info": {
   "codemirror_mode": {
    "name": "ipython",
    "version": 3
   },
   "file_extension": ".py",
   "mimetype": "text/x-python",
   "name": "python",
   "nbconvert_exporter": "python",
   "pygments_lexer": "ipython3",
   "version": "3.9.7"
  },
  "orig_nbformat": 4,
  "vscode": {
   "interpreter": {
    "hash": "aee8b7b246df8f9039afb4144a1f6fd8d2ca17a180786b69acc140d282b71a49"
   }
  }
 },
 "nbformat": 4,
 "nbformat_minor": 2
}
